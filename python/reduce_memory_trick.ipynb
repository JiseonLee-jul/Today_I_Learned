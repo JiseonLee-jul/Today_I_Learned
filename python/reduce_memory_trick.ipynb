{
 "cells": [
  {
   "cell_type": "markdown",
   "id": "b36e9976",
   "metadata": {},
   "source": [
    "## Reduce memory trick\n",
    "- customer_id는 length가 64인 string으로 64byte의 memory 사용\n",
    "- 이를 int64 타입으로 변경하여 8byte만 사용 가능하게 한다\n",
    "- 출처 : https://www.kaggle.com/c/h-and-m-personalized-fashion-recommendations/discussion/308635"
   ]
  },
  {
   "cell_type": "markdown",
   "id": "135f931e",
   "metadata": {},
   "source": [
    "### Using pandas"
   ]
  },
  {
   "cell_type": "code",
   "execution_count": 18,
   "id": "f4b856b5",
   "metadata": {},
   "outputs": [
    {
     "name": "stdout",
     "output_type": "stream",
     "text": [
      "Memory usage is 3846387332\n",
      "Length of customer_id variable is 64\n"
     ]
    },
    {
     "data": {
      "text/plain": [
       "0           000058a12d5b43e67d225668fa1f8d618c13dc232df0ca...\n",
       "1           000058a12d5b43e67d225668fa1f8d618c13dc232df0ca...\n",
       "2           00007d2de826758b65a93dd24ce629ed66842531df6699...\n",
       "3           00007d2de826758b65a93dd24ce629ed66842531df6699...\n",
       "4           00007d2de826758b65a93dd24ce629ed66842531df6699...\n",
       "                                  ...                        \n",
       "31788319    fff2282977442e327b45d8c89afde25617d00124d0f999...\n",
       "31788320    fff2282977442e327b45d8c89afde25617d00124d0f999...\n",
       "31788321    fff380805474b287b05cb2a7507b9a013482f7dd0bce0e...\n",
       "31788322    fff4d3a8b1f3b60af93e78c30a7cb4cf75edaf2590d3e5...\n",
       "31788323    fffef3b6b73545df065b521e19f64bf6fe93bfd450ab20...\n",
       "Name: customer_id, Length: 31788324, dtype: object"
      ]
     },
     "execution_count": 18,
     "metadata": {},
     "output_type": "execute_result"
    }
   ],
   "source": [
    "import pandas as pd\n",
    "path = 'D:/Kaggle/H&M/' \n",
    "train = pd.read_csv(path + 'transactions_train.csv')\n",
    "print(f'Memory usage is {train.customer_id.memory_usage(deep = True)}')\n",
    "print(f'Length of customer_id variable is {len(train.customer_id[0])}')\n",
    "train.customer_id"
   ]
  },
  {
   "cell_type": "code",
   "execution_count": 16,
   "id": "a1569d29",
   "metadata": {},
   "outputs": [
    {
     "name": "stdout",
     "output_type": "stream",
     "text": [
      "Memory usage is 254306720\n"
     ]
    },
    {
     "data": {
      "text/plain": [
       "0             -6846340800584936\n",
       "1             -6846340800584936\n",
       "2          -8334631767138808638\n",
       "3          -8334631767138808638\n",
       "4          -8334631767138808638\n",
       "                   ...         \n",
       "31788319    4685485978980270934\n",
       "31788320    4685485978980270934\n",
       "31788321    3959348689921271969\n",
       "31788322   -8639340045377511665\n",
       "31788323    3235222691137941515\n",
       "Name: customer_id, Length: 31788324, dtype: int64"
      ]
     },
     "execution_count": 16,
     "metadata": {},
     "output_type": "execute_result"
    }
   ],
   "source": [
    "train['customer_id'] =\\\n",
    "    train['customer_id'].apply(lambda x: int(x[-16:],16) ).astype('int64')\n",
    "print(f'Memory usage is {train.customer_id.memory_usage(deep = True)}')\n",
    "train.customer_id"
   ]
  },
  {
   "cell_type": "markdown",
   "id": "e356ae31",
   "metadata": {},
   "source": [
    "### Using RAPIDS cuDF"
   ]
  },
  {
   "cell_type": "code",
   "execution_count": null,
   "id": "46c779ad",
   "metadata": {},
   "outputs": [],
   "source": [
    "import cudf\n",
    "path = 'D:/Kaggle/H&M/'\n",
    "train = cudf.read_csv(path + 'transactions_train.csv')"
   ]
  },
  {
   "cell_type": "code",
   "execution_count": null,
   "id": "2b047700",
   "metadata": {},
   "outputs": [],
   "source": [
    "train['customer_id'] =\\\n",
    "    train['customer_id'].str[-16:].str.hex_to_int().astype('int64')\n",
    "print(f'Memory usage is {train.customer_id.memory_usage(deep = True)}')\n",
    "train.customer_id"
   ]
  },
  {
   "cell_type": "markdown",
   "id": "46d5f026",
   "metadata": {},
   "source": [
    "### Using index"
   ]
  },
  {
   "cell_type": "code",
   "execution_count": 32,
   "id": "007fa692",
   "metadata": {},
   "outputs": [
    {
     "data": {
      "text/plain": [
       "0          00000dbacae5abe5e23885899a1fa44253a17956c6d1c3...\n",
       "1          0000423b00ade91418cceaf3b26c6af3dd342b51fd051e...\n",
       "2          000058a12d5b43e67d225668fa1f8d618c13dc232df0ca...\n",
       "3          00005ca1c9ed5f5146b52ac8639a40ca9d57aeff4d1bd2...\n",
       "4          00006413d8573cd20ed7128e53b7b13819fe5cfc2d801f...\n",
       "                                 ...                        \n",
       "1371975    ffffbbf78b6eaac697a8a5dfbfd2bfa8113ee5b403e474...\n",
       "1371976    ffffcd5046a6143d29a04fb8c424ce494a76e5cdf4fab5...\n",
       "1371977    ffffcf35913a0bee60e8741cb2b4e78b8a98ee5ff2e6a1...\n",
       "1371978    ffffd7744cebcf3aca44ae7049d2a94b87074c3d4ffe38...\n",
       "1371979    ffffd9ac14e89946416d80e791d064701994755c3ab686...\n",
       "Name: customer_id, Length: 1371980, dtype: object"
      ]
     },
     "execution_count": 32,
     "metadata": {},
     "output_type": "execute_result"
    }
   ],
   "source": [
    "path = 'D:/Kaggle/H&M/'\n",
    "customers = pd.read_csv(path + 'customers.csv')\n",
    "sub = pd.read_csv(path + 'sample_submission.csv')\n",
    "customers.customer_id"
   ]
  },
  {
   "cell_type": "code",
   "execution_count": 34,
   "id": "3dd322ef",
   "metadata": {},
   "outputs": [],
   "source": [
    "id_to_index_dict = dict(zip(customers[\"customer_id\"], customers.index))\n",
    "index_to_id_dict = dict(zip(customers.index, customers[\"customer_id\"]))\n",
    "\n",
    "# for memory efficiency\n",
    "train[\"customer_id\"] = train[\"customer_id\"].map(id_to_index_dict)\n",
    "\n",
    "# for switching back for submission\n",
    "sub[\"customer_id\"] = sub[\"customer_id\"].map(index_to_id_dict)"
   ]
  },
  {
   "cell_type": "code",
   "execution_count": 40,
   "id": "fd25ab66",
   "metadata": {},
   "outputs": [
    {
     "data": {
      "text/plain": [
       "0                 2\n",
       "1                 2\n",
       "2                 7\n",
       "3                 7\n",
       "4                 7\n",
       "             ...   \n",
       "31788319    1371691\n",
       "31788320    1371691\n",
       "31788321    1371721\n",
       "31788322    1371747\n",
       "31788323    1371960\n",
       "Name: customer_id, Length: 31788324, dtype: int64"
      ]
     },
     "execution_count": 40,
     "metadata": {},
     "output_type": "execute_result"
    }
   ],
   "source": [
    "train.customer_id"
   ]
  },
  {
   "cell_type": "code",
   "execution_count": null,
   "id": "81ae45df",
   "metadata": {},
   "outputs": [],
   "source": []
  }
 ],
 "metadata": {
  "kernelspec": {
   "display_name": "Python 3 (ipykernel)",
   "language": "python",
   "name": "python3"
  },
  "language_info": {
   "codemirror_mode": {
    "name": "ipython",
    "version": 3
   },
   "file_extension": ".py",
   "mimetype": "text/x-python",
   "name": "python",
   "nbconvert_exporter": "python",
   "pygments_lexer": "ipython3",
   "version": "3.8.10"
  }
 },
 "nbformat": 4,
 "nbformat_minor": 5
}
